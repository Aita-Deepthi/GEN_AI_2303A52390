{
  "nbformat": 4,
  "nbformat_minor": 0,
  "metadata": {
    "colab": {
      "provenance": []
    },
    "kernelspec": {
      "name": "python3",
      "display_name": "Python 3"
    },
    "language_info": {
      "name": "python"
    }
  },
  "cells": [
    {
      "cell_type": "markdown",
      "source": [
        "**1**.With libraries"
      ],
      "metadata": {
        "id": "8lcbGy2rk2Bb"
      }
    },
    {
      "cell_type": "code",
      "execution_count": 1,
      "metadata": {
        "id": "6plE8qB8UqLF"
      },
      "outputs": [],
      "source": [
        "import numpy as np"
      ]
    },
    {
      "cell_type": "code",
      "source": [
        "Yactual=np.array([20,30,40,50,60])\n",
        "Ypred=np.array([20.5,30.3,40.2,50.6,60.7])"
      ],
      "metadata": {
        "id": "kvbyoAURU2YT"
      },
      "execution_count": 2,
      "outputs": []
    },
    {
      "cell_type": "code",
      "source": [
        "mae=np.mean(np.abs(Yactual-Ypred))\n",
        "mse=np.mean((Yactual-Ypred)**2)\n",
        "rmse=np.sqrt(mse)"
      ],
      "metadata": {
        "id": "1tidSOz8VxBs"
      },
      "execution_count": 3,
      "outputs": []
    },
    {
      "cell_type": "code",
      "source": [
        "print(f\"Mean Absolute Error (mae): {mae}\")\n",
        "print(f\"Mean Squared Error (mse): {mse}\")\n",
        "print(f\"Root Mean Squared Error (rmse): {rmse}\")"
      ],
      "metadata": {
        "colab": {
          "base_uri": "https://localhost:8080/"
        },
        "id": "n4oWxQ1fXMR2",
        "outputId": "3957efaa-c750-4d55-a4cb-1f0db5255ff2"
      },
      "execution_count": 4,
      "outputs": [
        {
          "output_type": "stream",
          "name": "stdout",
          "text": [
            "Mean Absolute Error (mae): 0.4600000000000016\n",
            "Mean Squared Error (mse): 0.24600000000000147\n",
            "Root Mean Squared Error (rmse): 0.49598387070549127\n"
          ]
        }
      ]
    },
    {
      "cell_type": "markdown",
      "source": [
        "1.Without libraries"
      ],
      "metadata": {
        "id": "fKX7cnwlk7vv"
      }
    },
    {
      "cell_type": "code",
      "source": [
        "from sklearn.metrics import mean_absolute_error, mean_squared_error, mean_absolute_percentage_error\n",
        "\n",
        "mae_lib = mean_absolute_error(Yactual, Ypred)\n",
        "mse_lib = mean_squared_error(Yactual, Ypred)\n",
        "rmse_lib = np.sqrt(mse_lib)\n",
        "print(f\"MAE (lib): {mae_lib}\")\n",
        "print(f\"MSE (lib): {mse_lib}\")\n",
        "print(f\"RMSE (lib): {rmse_lib}\")"
      ],
      "metadata": {
        "id": "3sEhU3ZRk-Nn",
        "colab": {
          "base_uri": "https://localhost:8080/"
        },
        "outputId": "eb3cfb4f-2652-45d4-a93e-d054cc0e0328"
      },
      "execution_count": 6,
      "outputs": [
        {
          "output_type": "stream",
          "name": "stdout",
          "text": [
            "MAE (lib): 0.4600000000000016\n",
            "MSE (lib): 0.24600000000000147\n",
            "RMSE (lib): 0.49598387070549127\n"
          ]
        }
      ]
    },
    {
      "cell_type": "markdown",
      "source": [
        "2.Question"
      ],
      "metadata": {
        "id": "JzjaDMzfjpMd"
      }
    },
    {
      "cell_type": "code",
      "source": [
        "import numpy as np\n",
        "from sklearn.metrics import confusion_matrix, accuracy_score, precision_score, recall_score, f1_score\n",
        "y_actual = np.array([0, 1, 2, 0, 1, 2, 0, 1, 2, 0, 1, 2, 0, 1, 2])\n",
        "y_pred = np.array([0, 0, 0, 0, 0, 0, 1, 2, 1, 2, 0, 2, 2, 2, 2])\n",
        "conf_matrix = confusion_matrix(y_actual, y_pred)\n",
        "\n",
        "\n",
        "acc = accuracy_score(y_actual, y_pred)\n",
        "prec = precision_score(y_actual, y_pred, average='macro')\n",
        "recall = recall_score(y_actual, y_pred, average='macro')\n",
        "f1 = f1_score(y_actual, y_pred, average='macro')\n",
        "\n",
        "print(\"Confusion Matrix:\")\n",
        "print(conf_matrix)\n",
        "print(f\"Accuracy: {acc}\")\n",
        "print(f\"Precision: {prec}\")\n",
        "print(f\"Recall: {recall}\")\n",
        "print(f\"F1 Score: {f1}\")"
      ],
      "metadata": {
        "colab": {
          "base_uri": "https://localhost:8080/"
        },
        "id": "8hEbUl20jr1y",
        "outputId": "b5725c6e-3160-45d1-acd0-cb65bdd17141"
      },
      "execution_count": 7,
      "outputs": [
        {
          "output_type": "stream",
          "name": "stdout",
          "text": [
            "Confusion Matrix:\n",
            "[[2 1 2]\n",
            " [3 0 2]\n",
            " [2 1 2]]\n",
            "Accuracy: 0.26666666666666666\n",
            "Precision: 0.20634920634920637\n",
            "Recall: 0.26666666666666666\n",
            "F1 Score: 0.23232323232323235\n"
          ]
        }
      ]
    },
    {
      "cell_type": "code",
      "source": [
        "from sklearn.metrics import accuracy_score, precision_score, recall_score, f1_score, confusion_matrix\n",
        "conf_matrix_lib = confusion_matrix(y_actual, y_pred)\n",
        "accuracy_lib = accuracy_score(y_actual, y_pred)\n",
        "precision_lib = precision_score(y_actual, y_pred, average='macro')\n",
        "recall_lib = recall_score(y_actual, y_pred, average='macro')\n",
        "f1_lib = f1_score(y_actual, y_pred, average='macro')\n",
        "\n",
        "print(\"Confusion Matrix (lib):\")\n",
        "print(conf_matrix_lib)\n",
        "print(f\"Accuracy (lib): {accuracy_lib}\")\n",
        "print(f\"Precision (lib): {precision_lib}\")\n",
        "print(f\"Recall (lib): {recall_lib}\")\n",
        "print(f\"F1 Score (lib): {f1_lib}\")"
      ],
      "metadata": {
        "colab": {
          "base_uri": "https://localhost:8080/"
        },
        "id": "SrE6QODfjxFM",
        "outputId": "ccfb4a52-d3e2-4b22-93f0-aa67e5553a2f"
      },
      "execution_count": 8,
      "outputs": [
        {
          "output_type": "stream",
          "name": "stdout",
          "text": [
            "Confusion Matrix (lib):\n",
            "[[2 1 2]\n",
            " [3 0 2]\n",
            " [2 1 2]]\n",
            "Accuracy (lib): 0.26666666666666666\n",
            "Precision (lib): 0.20634920634920637\n",
            "Recall (lib): 0.26666666666666666\n",
            "F1 Score (lib): 0.23232323232323235\n"
          ]
        }
      ]
    }
  ]
}